{
 "cells": [
  {
   "cell_type": "code",
   "execution_count": 1,
   "metadata": {},
   "outputs": [],
   "source": [
    "import pandas as pd\n",
    "import lightgbm as lgb\n",
    "import numpy as np"
   ]
  },
  {
   "cell_type": "code",
   "execution_count": 2,
   "metadata": {},
   "outputs": [],
   "source": [
    "import matplotlib.pyplot as plt"
   ]
  },
  {
   "cell_type": "code",
   "execution_count": 3,
   "metadata": {},
   "outputs": [],
   "source": [
    "ad_info = pd.read_csv('ad_info.csv', header=0)\n",
    "ad_info.columns = ['addld', 'billld', 'primld', 'creativeType', 'intertype', 'spreadAppld']"
   ]
  },
  {
   "cell_type": "code",
   "execution_count": 4,
   "metadata": {},
   "outputs": [
    {
     "name": "stdout",
     "output_type": "stream",
     "text": [
      "billld统计\n",
      "CPC : 0.8385675986212179\n",
      "CPM : 0.16143240137878206\n",
      "CPD : 0.0\n",
      "总计 1.0\n"
     ]
    }
   ],
   "source": [
    "print(\"billld统计\")\n",
    "a = ad_info[ad_info.billld == 'CPC']\n",
    "b = ad_info[ad_info.billld == 'CPM']\n",
    "c = ad_info[ad_info.billld == 'CPD']\n",
    "sum = 0\n",
    "print(\"CPC :\", len(a)/len(ad_info))\n",
    "sum = sum + len(a)\n",
    "print(\"CPM :\", len(b)/len(ad_info))\n",
    "sum = sum + len(b)\n",
    "print(\"CPD :\", len(c)/len(ad_info))\n",
    "sum = sum + len(c)\n",
    "print(\"总计\",sum/len(ad_info))\n"
   ]
  },
  {
   "cell_type": "code",
   "execution_count": 5,
   "metadata": {},
   "outputs": [
    {
     "data": {
      "image/png": "[encoded data removed]",
      "text/plain": [
       "<Figure size 432x288 with 1 Axes>"
      ]
     },
     "metadata": {},
     "output_type": "display_data"
    }
   ],
   "source": [
    "name_list=['CPC', 'CPM', 'CPD']\n",
    "num_list = [len(a)/len(ad_info), len(b)/len(ad_info), len(c)/len(ad_info)]\n",
    "plt.bar(range(3), num_list, tick_label = name_list)\n",
    "plt.show()"
   ]
  },
  {
   "cell_type": "code",
   "execution_count": 6,
   "metadata": {},
   "outputs": [
    {
     "name": "stdout",
     "output_type": "stream",
     "text": [
      "intertype统计\n",
      "0 : 0.0\n",
      "1 : 0.28035235541937953\n",
      "2 : 0.5139793182688625\n",
      "3 : 0.20509383378016086\n",
      "4 : 0.0\n",
      "5 : 0.0005744925315970893\n",
      "6 : 0.0\n",
      "7 : 0.0\n",
      "8 : 0.0\n",
      "9 : 0.0\n",
      "10 : 0.0\n",
      "总计 1.0\n"
     ]
    },
    {
     "data": {
      "image/png": "[encoded data removed]",
      "text/plain": [
       "<Figure size 432x288 with 1 Axes>"
      ]
     },
     "metadata": {},
     "output_type": "display_data"
    }
   ],
   "source": [
    "print(\"intertype统计\")\n",
    "a = ad_info[ad_info.intertype == 0]\n",
    "b = ad_info[ad_info.intertype == 1]\n",
    "c = ad_info[ad_info.intertype == 2]\n",
    "d = ad_info[ad_info.intertype == 3]\n",
    "e = ad_info[ad_info.intertype == 4]\n",
    "f = ad_info[ad_info.intertype == 5]\n",
    "g = ad_info[ad_info.intertype == 6]\n",
    "h = ad_info[ad_info.intertype == 7]\n",
    "i = ad_info[ad_info.intertype == 8]\n",
    "j = ad_info[ad_info.intertype == 9]\n",
    "k = ad_info[ad_info.intertype == 10]\n",
    "sum = 0\n",
    "num_list = list()\n",
    "print(\"0 :\", len(a)/len(ad_info))\n",
    "num_list.append(len(a)/len(ad_info))\n",
    "sum = sum + len(a)\n",
    "print(\"1 :\", len(b)/len(ad_info))\n",
    "num_list.append(len(b)/len(ad_info))\n",
    "sum = sum + len(b)\n",
    "print(\"2 :\", len(c)/len(ad_info))\n",
    "num_list.append(len(c)/len(ad_info))\n",
    "sum = sum + len(c)\n",
    "print(\"3 :\", len(d)/len(ad_info))\n",
    "num_list.append(len(d)/len(ad_info))\n",
    "sum = sum + len(d)\n",
    "print(\"4 :\", len(e)/len(ad_info))\n",
    "num_list.append(len(e)/len(ad_info))\n",
    "sum = sum + len(e)\n",
    "print(\"5 :\", len(f)/len(ad_info))\n",
    "num_list.append(len(f)/len(ad_info))\n",
    "sum = sum + len(f)\n",
    "print(\"6 :\", len(g)/len(ad_info))\n",
    "num_list.append(len(g)/len(ad_info))\n",
    "sum = sum + len(g)\n",
    "print(\"7 :\", len(h)/len(ad_info))\n",
    "num_list.append(len(h)/len(ad_info))\n",
    "sum = sum + len(h)\n",
    "print(\"8 :\", len(i)/len(ad_info))\n",
    "num_list.append(len(i)/len(ad_info))\n",
    "sum = sum + len(i)\n",
    "print(\"9 :\", len(j)/len(ad_info))\n",
    "num_list.append(len(j)/len(ad_info))\n",
    "sum = sum + len(j)\n",
    "print(\"10 :\", len(k)/len(ad_info))\n",
    "num_list.append(len(k)/len(ad_info))\n",
    "sum = sum + len(k)\n",
    "print(\"总计\",sum/len(ad_info))\n",
    "l2 = [i for i in range(0,11)]\n",
    "plt.bar(range(11), num_list, tick_label = l2)\n",
    "plt.show()"
   ]
  },
  {
   "cell_type": "code",
   "execution_count": 7,
   "metadata": {
    "scrolled": false
   },
   "outputs": [
    {
     "name": "stdout",
     "output_type": "stream",
     "text": [
      "creativeType统计\n",
      "0 : 0.0\n",
      "1 : 0.0\n",
      "2 : 0.11011106855610878\n",
      "3 : 0.6989659134431252\n",
      "4 : 0.0\n",
      "5 : 0.0\n",
      "6 : 0.038299502106472615\n",
      "7 : 0.051129835312140944\n",
      "8 : 0.10149368058215243\n",
      "9 : 0.0\n",
      "10 : 0.0\n",
      "总计 1.0\n"
     ]
    },
    {
     "data": {
      "image/png": "[encoded data removed]",
      "text/plain": [
       "<Figure size 432x288 with 1 Axes>"
      ]
     },
     "metadata": {},
     "output_type": "display_data"
    }
   ],
   "source": [
    "print(\"creativeType统计\")\n",
    "a = ad_info[ad_info.creativeType == 0]\n",
    "b = ad_info[ad_info.creativeType == 1]\n",
    "c = ad_info[ad_info.creativeType == 2]\n",
    "d = ad_info[ad_info.creativeType == 3]\n",
    "e = ad_info[ad_info.creativeType == 4]\n",
    "f = ad_info[ad_info.creativeType == 5]\n",
    "g = ad_info[ad_info.creativeType == 6]\n",
    "h = ad_info[ad_info.creativeType == 7]\n",
    "i = ad_info[ad_info.creativeType == 8]\n",
    "j = ad_info[ad_info.creativeType == 9]\n",
    "k = ad_info[ad_info.creativeType == 10]\n",
    "sum = 0\n",
    "num_list = list()\n",
    "print(\"0 :\", len(a)/len(ad_info))\n",
    "num_list.append(len(a)/len(ad_info))\n",
    "sum = sum + len(a)\n",
    "print(\"1 :\", len(b)/len(ad_info))\n",
    "num_list.append(len(b)/len(ad_info))\n",
    "sum = sum + len(b)\n",
    "print(\"2 :\", len(c)/len(ad_info))\n",
    "num_list.append(len(c)/len(ad_info))\n",
    "sum = sum + len(c)\n",
    "print(\"3 :\", len(d)/len(ad_info))\n",
    "num_list.append(len(d)/len(ad_info))\n",
    "sum = sum + len(d)\n",
    "print(\"4 :\", len(e)/len(ad_info))\n",
    "num_list.append(len(e)/len(ad_info))\n",
    "sum = sum + len(e)\n",
    "print(\"5 :\", len(f)/len(ad_info))\n",
    "num_list.append(len(f)/len(ad_info))\n",
    "sum = sum + len(f)\n",
    "print(\"6 :\", len(g)/len(ad_info))\n",
    "num_list.append(len(g)/len(ad_info))\n",
    "sum = sum + len(g)\n",
    "print(\"7 :\", len(h)/len(ad_info))\n",
    "num_list.append(len(h)/len(ad_info))\n",
    "sum = sum + len(h)\n",
    "print(\"8 :\", len(i)/len(ad_info))\n",
    "num_list.append(len(i)/len(ad_info))\n",
    "sum = sum + len(i)\n",
    "print(\"9 :\", len(j)/len(ad_info))\n",
    "num_list.append(len(j)/len(ad_info))\n",
    "sum = sum + len(j)\n",
    "print(\"10 :\", len(k)/len(ad_info))\n",
    "num_list.append(len(k)/len(ad_info))\n",
    "sum = sum + len(k)\n",
    "print(\"总计\",sum/len(ad_info))\n",
    "l2 = [i for i in range(0,11)]\n",
    "plt.bar(range(11), num_list, tick_label = l2)\n",
    "plt.show()"
   ]
  },
  {
   "cell_type": "code",
   "execution_count": null,
   "metadata": {
    "scrolled": false
   },
   "outputs": [],
   "source": []
  },
  {
   "cell_type": "code",
   "execution_count": null,
   "metadata": {},
   "outputs": [],
   "source": []
  },
  {
   "cell_type": "code",
   "execution_count": null,
   "metadata": {},
   "outputs": [],
   "source": []
  }
 ],
 "metadata": {
  "kernelspec": {
   "display_name": "Python 3",
   "language": "python",
   "name": "python3"
  },
  "language_info": {
   "codemirror_mode": {
    "name": "ipython",
    "version": 3
   },
   "file_extension": ".py",
   "mimetype": "text/x-python",
   "name": "python",
   "nbconvert_exporter": "python",
   "pygments_lexer": "ipython3",
   "version": "3.6.8"
  }
 },
 "nbformat": 4,
 "nbformat_minor": 2
}
